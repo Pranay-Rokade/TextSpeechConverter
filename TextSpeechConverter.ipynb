{
 "cells": [
  {
   "cell_type": "code",
   "execution_count": 1,
   "id": "fe6b0307",
   "metadata": {},
   "outputs": [],
   "source": [
    "import pyttsx3\n",
    "import speech_recognition as sr"
   ]
  },
  {
   "cell_type": "code",
   "execution_count": 2,
   "id": "8e62c84f",
   "metadata": {},
   "outputs": [],
   "source": [
    "def TextToSpeech():\n",
    "    text = input(\"Enter the text which you want to be converted in speech: \")\n",
    "    engine = pyttsx3.init()\n",
    "    engine.say(text)\n",
    "    engine.runAndWait()"
   ]
  },
  {
   "cell_type": "code",
   "execution_count": 3,
   "id": "6bab73c5",
   "metadata": {},
   "outputs": [],
   "source": [
    "def SpeechToText():\n",
    "    r = sr.Recognizer()\n",
    "    with sr.Microphone() as source:\n",
    "        print(\"Say Something...!\")\n",
    "        audio = r.listen(source)\n",
    "        print(\"Done!!!\")\n",
    "    \n",
    "    try:\n",
    "        text = r.recognize_google(audio)\n",
    "        print('You Said: ' + text)\n",
    "    except Exception as e:\n",
    "        print(e)"
   ]
  },
  {
   "cell_type": "code",
   "execution_count": 4,
   "id": "33903099",
   "metadata": {},
   "outputs": [],
   "source": [
    "def main():\n",
    "    while True:\n",
    "        print(\"\\nSelect the operation:\")\n",
    "        print(\"1. Convert text to speech\")\n",
    "        print(\"2. Convert speech to text\")\n",
    "        print(\"3. Exit\")\n",
    "        \n",
    "        choice = input(\"Enter your choice (1, 2, or 3): \")\n",
    "        \n",
    "        if choice == '1':\n",
    "            TextToSpeech()\n",
    "        elif choice == '2':\n",
    "            SpeechToText()\n",
    "        elif choice == '3':\n",
    "            print(\"Exiting the program. Goodbye!\")\n",
    "            break\n",
    "        else:\n",
    "            print(\"Invalid choice. Please enter 1, 2, or 3.\")"
   ]
  },
  {
   "cell_type": "code",
   "execution_count": 5,
   "id": "98328a23",
   "metadata": {},
   "outputs": [
    {
     "name": "stdout",
     "output_type": "stream",
     "text": [
      "\n",
      "Select the operation:\n",
      "1. Convert text to speech\n",
      "2. Convert speech to text\n",
      "3. Exit\n",
      "Enter your choice (1, 2, or 3): 1\n",
      "Enter the text which you want to be converted in speech: This is my new project text speech converter\n",
      "\n",
      "Select the operation:\n",
      "1. Convert text to speech\n",
      "2. Convert speech to text\n",
      "3. Exit\n",
      "Enter your choice (1, 2, or 3): 2\n",
      "Say Something...!\n",
      "Done!!!\n",
      "You Said: hello world\n",
      "\n",
      "Select the operation:\n",
      "1. Convert text to speech\n",
      "2. Convert speech to text\n",
      "3. Exit\n",
      "Enter your choice (1, 2, or 3): 3\n",
      "Exiting the program. Goodbye!\n"
     ]
    }
   ],
   "source": [
    "if __name__ == \"__main__\":\n",
    "    main()"
   ]
  }
 ],
 "metadata": {
  "kernelspec": {
   "display_name": "Python 3 (ipykernel)",
   "language": "python",
   "name": "python3"
  },
  "language_info": {
   "codemirror_mode": {
    "name": "ipython",
    "version": 3
   },
   "file_extension": ".py",
   "mimetype": "text/x-python",
   "name": "python",
   "nbconvert_exporter": "python",
   "pygments_lexer": "ipython3",
   "version": "3.11.7"
  }
 },
 "nbformat": 4,
 "nbformat_minor": 5
}
